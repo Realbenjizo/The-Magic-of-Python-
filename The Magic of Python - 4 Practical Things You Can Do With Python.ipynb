{
 "cells": [
  {
   "cell_type": "code",
   "execution_count": null,
   "id": "e99ff146",
   "metadata": {},
   "outputs": [],
   "source": [
    "from pytube import YouTube\n",
    "\n",
    "\n",
    "def download_video(video_url, save_path):\n",
    "    try:\n",
    "        # Create a YouTube object\n",
    "        yt = YouTube(video_url)\n",
    "        \n",
    "        # Get the highest resolution stream\n",
    "        video_stream = yt.streams.get_highest_resolution()\n",
    "        \n",
    "        # Download the video\n",
    "        video_stream.download(output_path=save_path)\n",
    "        print(\"Download completed!\")\n",
    "    except Exception as e:\n",
    "        print(\"Error:\", str(e))\n",
    "\n",
    "video_link = \"\"   # insert YouTube video URL here    \n",
    "save_path  = \"\"    # insert path to the directory where you want to save the video  \n",
    "\n",
    "download_video(video_link, save_path)"
   ]
  },
  {
   "cell_type": "code",
   "execution_count": null,
   "id": "c8f5e627",
   "metadata": {},
   "outputs": [],
   "source": [
    "import shutil\n",
    "\n",
    "def zip_files(zip_filename, files_to_zip):\n",
    "    shutil.make_archive(zip_filename, 'zip', files_to_zip)\n",
    "    print(f\"Files zipped successfully to {zip_filename}.zip\")\n",
    "\n",
    "\n",
    "files_to_zip = \"\"  # Insert your file path\n",
    "zip_filename = \"my_archive_file\"  # Replace with the desired name of the zip archive\n",
    "\n",
    "zip_files(zip_filename, files_to_zip)"
   ]
  },
  {
   "cell_type": "code",
   "execution_count": null,
   "id": "72b40eb4",
   "metadata": {},
   "outputs": [],
   "source": [
    "from rembg import remove\n",
    "from PIL import Image\n",
    "\n",
    "def remove_background(image_path, output_path):\n",
    "    processed_image = Image.open(image_path)\n",
    "    # removing background image\n",
    "    output_image = remove(processed_image)\n",
    "    # saving image\n",
    "    output_image.save(output_path)\n",
    "    print(\"Image processed successfully\")\n",
    "\n",
    "image_path = \"\" # insert path to where image is saved\n",
    "output_path = \"\" # insert path and name to save processed image(png format)\n",
    "\n",
    "remove_background(image_path, output_path)"
   ]
  },
  {
   "cell_type": "code",
   "execution_count": null,
   "id": "102117d1",
   "metadata": {},
   "outputs": [],
   "source": [
    "import PyPDF2\n",
    "\n",
    "def extract_text_from_pdf(pdf_filename, page_number):\n",
    "    try:\n",
    "        with open(pdf_filename, 'rb') as pdf_file:\n",
    "            pdf_reader = PyPDF2.PdfFileReader(pdf_file)\n",
    "            page = pdf_reader.getPage(page_number)\n",
    "            extracted_text = page.extractText()\n",
    "            return extracted_text\n",
    "    except Exception as e:\n",
    "        print(f\"An error occurred: {e}\")\n",
    "        return None\n",
    "\n",
    "pdf_filename = '50_Days_of_Python.pdf'\n",
    "page_number = 10\n",
    "extracted_text = extract_text_from_pdf(pdf_filename, page_number)\n",
    "print(extracted_text)"
   ]
  }
 ],
 "metadata": {
  "kernelspec": {
   "display_name": "Python 3 (ipykernel)",
   "language": "python",
   "name": "python3"
  },
  "language_info": {
   "codemirror_mode": {
    "name": "ipython",
    "version": 3
   },
   "file_extension": ".py",
   "mimetype": "text/x-python",
   "name": "python",
   "nbconvert_exporter": "python",
   "pygments_lexer": "ipython3",
   "version": "3.10.5"
  }
 },
 "nbformat": 4,
 "nbformat_minor": 5
}
